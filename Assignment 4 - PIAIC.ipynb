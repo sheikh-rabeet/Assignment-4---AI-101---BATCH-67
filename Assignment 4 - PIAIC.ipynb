{
 "cells": [
  {
   "cell_type": "code",
   "execution_count": null,
   "id": "5d5af3a8",
   "metadata": {},
   "outputs": [],
   "source": [
    "# Exercise 3-1: Names\n",
    "names = ['Haris', 'Mujtaba', 'Ahmed', 'Umer']"
   ]
  },
  {
   "cell_type": "code",
   "execution_count": null,
   "id": "45b585a0",
   "metadata": {
    "lines_to_next_cell": 2
   },
   "outputs": [],
   "source": [
    "# I will print each person's name by accessing each element in the list\n",
    "for name in names:\n",
    "    print(name)"
   ]
  },
  {
   "cell_type": "code",
   "execution_count": null,
   "id": "df5057de",
   "metadata": {},
   "outputs": [],
   "source": [
    "# Exercise 3-2: Greetings\n",
    "names = ['Haris', 'Mujtaba', 'Ahmed', 'Umer']"
   ]
  },
  {
   "cell_type": "code",
   "execution_count": null,
   "id": "87cc6ee6",
   "metadata": {
    "lines_to_next_cell": 2
   },
   "outputs": [],
   "source": [
    "# I will print personalized greeting messages\n",
    "for name in names:\n",
    "    print(f\"Hello, {name}! How are you today?\")"
   ]
  },
  {
   "cell_type": "code",
   "execution_count": null,
   "id": "63ba7937",
   "metadata": {},
   "outputs": [],
   "source": [
    "# Exercise 3-3: Your Own List\n",
    "transportation = ['Honda motorcycle', 'Tesla car', 'Boeing 747 airplane', 'Harley Davidson motorcycle']"
   ]
  },
  {
   "cell_type": "code",
   "execution_count": null,
   "id": "f4d099ba",
   "metadata": {},
   "outputs": [],
   "source": [
    "# I will print statements about these transportation items\n",
    "for item in transportation:\n",
    "    print(f\"I would like to own a {item}.\")"
   ]
  },
  {
   "cell_type": "code",
   "execution_count": null,
   "id": "e622d82d",
   "metadata": {},
   "outputs": [],
   "source": [
    "# Exercise 3-4: Guest List\n",
    "guests = ['Haris', 'Mujtaba', 'Ahmed']"
   ]
  },
  {
   "cell_type": "code",
   "execution_count": null,
   "id": "7cadb8c9",
   "metadata": {
    "lines_to_next_cell": 2
   },
   "outputs": [],
   "source": [
    "# I will print invitation messages\n",
    "for guest in guests:\n",
    "    print(f\"Hello {guest}, I would like to invite you to dinner!\")"
   ]
  },
  {
   "cell_type": "code",
   "execution_count": null,
   "id": "b6cc4a5b",
   "metadata": {},
   "outputs": [],
   "source": [
    "# Exercise 3-5: Changing Guest List\n",
    "guests = ['Haris', 'Mujtaba', 'Ahmed']\n",
    "unavailable_guest = 'Mujtaba'"
   ]
  },
  {
   "cell_type": "code",
   "execution_count": null,
   "id": "fba57e56",
   "metadata": {},
   "outputs": [],
   "source": [
    "# I will print who can't make it\n",
    "print(f\"\\nUnfortunately, {unavailable_guest} can't make it to dinner.\")"
   ]
  },
  {
   "cell_type": "code",
   "execution_count": null,
   "id": "511f087b",
   "metadata": {},
   "outputs": [],
   "source": [
    "# I will replace the unavailable guest with a new guest\n",
    "guests.remove(unavailable_guest)\n",
    "guests.append('Umer')"
   ]
  },
  {
   "cell_type": "code",
   "execution_count": null,
   "id": "7418f7c2",
   "metadata": {},
   "outputs": [],
   "source": [
    "# I will print new invitations\n",
    "for guest in guests:\n",
    "    print(f\"Hello {guest}, I would like to invite you to dinner!\")"
   ]
  },
  {
   "cell_type": "code",
   "execution_count": null,
   "id": "cf42dac7",
   "metadata": {},
   "outputs": [],
   "source": [
    "# Exercise 3-6: More Guests\n",
    "guests = ['Haris', 'Mujtaba', 'Ahmed']"
   ]
  },
  {
   "cell_type": "code",
   "execution_count": null,
   "id": "4df86ed1",
   "metadata": {},
   "outputs": [],
   "source": [
    "# I will inform that you found a bigger table\n",
    "print(\"\\nGood news! I found a bigger table and can invite more people.\")"
   ]
  },
  {
   "cell_type": "code",
   "execution_count": null,
   "id": "bc346c1e",
   "metadata": {},
   "outputs": [],
   "source": [
    "# I will insert new guests into the list\n",
    "guests.insert(0, 'Sarah')      # At the beginning\n",
    "guests.insert(2, 'Ali')        # In the middle\n",
    "guests.append('Zara')          # At the end"
   ]
  },
  {
   "cell_type": "code",
   "execution_count": null,
   "id": "7a88ea63",
   "metadata": {
    "lines_to_next_cell": 2
   },
   "outputs": [],
   "source": [
    "# I will print new invitations\n",
    "for guest in guests:\n",
    "    print(f\"Hello {guest}, I would like to invite you to dinner!\")"
   ]
  },
  {
   "cell_type": "code",
   "execution_count": null,
   "id": "d87dbba5",
   "metadata": {},
   "outputs": [],
   "source": [
    "# Exercise 3-7: Shrinking Guest List\n",
    "guests = ['Haris', 'Mujtaba', 'Ahmed', 'Umer', 'Sarah', 'Ali', 'Zara']"
   ]
  },
  {
   "cell_type": "code",
   "execution_count": null,
   "id": "959af5f1",
   "metadata": {},
   "outputs": [],
   "source": [
    "# I will inform that only two people can be invited\n",
    "print(\"\\nDue to space limitations, I can invite only two people for dinner.\")"
   ]
  },
  {
   "cell_type": "code",
   "execution_count": null,
   "id": "886d39bc",
   "metadata": {},
   "outputs": [],
   "source": [
    "# I will remove guests one by one\n",
    "while len(guests) > 2:\n",
    "    removed_guest = guests.pop()\n",
    "    print(f\"Sorry {removed_guest}, I can't invite you to dinner.\")"
   ]
  },
  {
   "cell_type": "code",
   "execution_count": null,
   "id": "cb47c01d",
   "metadata": {},
   "outputs": [],
   "source": [
    "# I wll print messages to the two remaining guests\n",
    "for guest in guests:\n",
    "    print(f\"{guest}, you are still invited to dinner!\")"
   ]
  },
  {
   "cell_type": "code",
   "execution_count": null,
   "id": "2de47076",
   "metadata": {},
   "outputs": [],
   "source": [
    "# I will clear the list\n",
    "guests.clear()"
   ]
  },
  {
   "cell_type": "code",
   "execution_count": null,
   "id": "d4977894",
   "metadata": {},
   "outputs": [],
   "source": [
    "# I will print empty list to ensure it's empty\n",
    "print(\"\\nFinal guest list:\", guests)"
   ]
  },
  {
   "cell_type": "code",
   "execution_count": null,
   "id": "8c3d8009",
   "metadata": {},
   "outputs": [],
   "source": [
    "# Exercise 3-8: Seeing the World\n",
    "places = ['Paris', 'Tokyo', 'New York', 'Sydney', 'Cape Town']"
   ]
  },
  {
   "cell_type": "code",
   "execution_count": null,
   "id": "559073c9",
   "metadata": {},
   "outputs": [],
   "source": [
    "# i will print original list\n",
    "print(\"Original list of places:\")\n",
    "print(places)"
   ]
  },
  {
   "cell_type": "code",
   "execution_count": null,
   "id": "cb445bbf",
   "metadata": {},
   "outputs": [],
   "source": [
    "# I will print in alphabetical order without modifying the list\n",
    "print(\"\\nAlphabetical order:\")\n",
    "print(sorted(places))"
   ]
  },
  {
   "cell_type": "code",
   "execution_count": null,
   "id": "4bd2c300",
   "metadata": {},
   "outputs": [],
   "source": [
    "# I will show original list is still unchanged\n",
    "print(\"\\nOriginal list (unchanged):\")\n",
    "print(places)"
   ]
  },
  {
   "cell_type": "code",
   "execution_count": null,
   "id": "b9c75b3c",
   "metadata": {},
   "outputs": [],
   "source": [
    "# I will print in reverse-alphabetical order without modifying the list\n",
    "print(\"\\nReverse alphabetical order:\")\n",
    "print(sorted(places, reverse=True))"
   ]
  },
  {
   "cell_type": "code",
   "execution_count": null,
   "id": "1e7a8132",
   "metadata": {},
   "outputs": [],
   "source": [
    "# I will show original list is still unchanged\n",
    "print(\"\\nOriginal list (unchanged again):\")\n",
    "print(places)"
   ]
  },
  {
   "cell_type": "code",
   "execution_count": null,
   "id": "fde5df57",
   "metadata": {},
   "outputs": [],
   "source": [
    "# I will reverse the list and print\n",
    "places.reverse()\n",
    "print(\"\\nReversed list:\")\n",
    "print(places)"
   ]
  },
  {
   "cell_type": "code",
   "execution_count": null,
   "id": "d2647615",
   "metadata": {},
   "outputs": [],
   "source": [
    "# I will reverse it back and print\n",
    "places.reverse()\n",
    "print(\"\\nReversed back to original list:\")\n",
    "print(places)"
   ]
  },
  {
   "cell_type": "code",
   "execution_count": null,
   "id": "42d14e32",
   "metadata": {},
   "outputs": [],
   "source": [
    "# I will sort the list alphabetically and print\n",
    "places.sort()\n",
    "print(\"\\nSorted list alphabetically:\")\n",
    "print(places)"
   ]
  },
  {
   "cell_type": "code",
   "execution_count": null,
   "id": "735fc2aa",
   "metadata": {},
   "outputs": [],
   "source": [
    "# I will sort the list in reverse alphabetical order and print\n",
    "places.sort(reverse=True)\n",
    "print(\"\\nSorted list in reverse alphabetical order:\")\n",
    "print(places)"
   ]
  },
  {
   "cell_type": "code",
   "execution_count": null,
   "id": "c8595da0",
   "metadata": {},
   "outputs": [],
   "source": [
    "# Exercise 3-9: Dinner Guests\n",
    "guests = ['Haris', 'Mujtaba', 'Ahmed']"
   ]
  },
  {
   "cell_type": "code",
   "execution_count": null,
   "id": "ec3e085d",
   "metadata": {},
   "outputs": [],
   "source": [
    "# I will print the number of people invited\n",
    "print(f\"\\nI am inviting {len(guests)} people to dinner.\")"
   ]
  },
  {
   "cell_type": "code",
   "execution_count": null,
   "id": "85c44293",
   "metadata": {},
   "outputs": [],
   "source": [
    "# Exercise 3-10: Every Function\n",
    "items = ['mountains', 'rivers', 'countries', 'cities', 'languages']"
   ]
  },
  {
   "cell_type": "code",
   "execution_count": null,
   "id": "54dd34b0",
   "metadata": {},
   "outputs": [],
   "source": [
    "# I will print the list\n",
    "print(\"Original list:\", items)"
   ]
  },
  {
   "cell_type": "code",
   "execution_count": null,
   "id": "896b9fc6",
   "metadata": {},
   "outputs": [],
   "source": [
    "# I will use len() to find number of items\n",
    "print(\"\\nNumber of items in the list:\", len(items))"
   ]
  },
  {
   "cell_type": "code",
   "execution_count": null,
   "id": "2c793b8f",
   "metadata": {},
   "outputs": [],
   "source": [
    "# I will use sorted() to print the list in alphabetical order\n",
    "print(\"\\nSorted list (alphabetical):\", sorted(items))"
   ]
  },
  {
   "cell_type": "code",
   "execution_count": null,
   "id": "2cfd481d",
   "metadata": {},
   "outputs": [],
   "source": [
    "# I will use reverse() to reverse the list\n",
    "items.reverse()\n",
    "print(\"\\nReversed list:\", items)"
   ]
  },
  {
   "cell_type": "code",
   "execution_count": null,
   "id": "daa9b522",
   "metadata": {},
   "outputs": [],
   "source": [
    "# I will use sort() to sort the list in alphabetical order\n",
    "items.sort()\n",
    "print(\"\\nSorted list (in place, alphabetical):\", items)"
   ]
  },
  {
   "cell_type": "code",
   "execution_count": null,
   "id": "b9cd9f3b",
   "metadata": {
    "lines_to_next_cell": 2
   },
   "outputs": [],
   "source": [
    "# I will use sort() to sort the list in reverse order\n",
    "items.sort(reverse=True)\n",
    "print(\"\\nSorted list (in place, reverse alphabetical):\", items)"
   ]
  },
  {
   "cell_type": "code",
   "execution_count": null,
   "id": "1c86d865",
   "metadata": {},
   "outputs": [],
   "source": [
    "# Exercise 3-11: Intentional Error\n",
    "names = ['Haris', 'Mujtaba', 'Ahmed']"
   ]
  },
  {
   "cell_type": "code",
   "execution_count": null,
   "id": "6cdc125e",
   "metadata": {},
   "outputs": [],
   "source": [
    "# I will try to access an index out of range\n",
    "try:\n",
    "    print(names[5])\n",
    "except IndexError:\n",
    "    print(\"\\nError: Index out of range!\")"
   ]
  },
  {
   "cell_type": "code",
   "execution_count": null,
   "id": "e19e9e58",
   "metadata": {},
   "outputs": [],
   "source": [
    "# I will correct the error by using an index within the range\n",
    "print(names[2])  # This will work correctly most probably."
   ]
  },
  {
   "cell_type": "markdown",
   "id": "9b205586",
   "metadata": {},
   "source": [
    "END OF TASKS"
   ]
  }
 ],
 "metadata": {
  "jupytext": {
   "cell_metadata_filter": "-all",
   "main_language": "python",
   "notebook_metadata_filter": "-all"
  }
 },
 "nbformat": 4,
 "nbformat_minor": 5
}
